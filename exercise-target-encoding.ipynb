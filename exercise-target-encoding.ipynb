{
 "cells": [
  {
   "cell_type": "markdown",
   "id": "0e5d599d",
   "metadata": {
    "papermill": {
     "duration": 0.025382,
     "end_time": "2021-12-30T13:44:34.733629",
     "exception": false,
     "start_time": "2021-12-30T13:44:34.708247",
     "status": "completed"
    },
    "tags": []
   },
   "source": [
    "**This notebook is an exercise in the [Feature Engineering](https://www.kaggle.com/learn/feature-engineering) course.  You can reference the tutorial at [this link](https://www.kaggle.com/ryanholbrook/target-encoding).**\n",
    "\n",
    "---\n"
   ]
  },
  {
   "cell_type": "markdown",
   "id": "21868cc8",
   "metadata": {
    "papermill": {
     "duration": 0.024153,
     "end_time": "2021-12-30T13:44:34.782626",
     "exception": false,
     "start_time": "2021-12-30T13:44:34.758473",
     "status": "completed"
    },
    "tags": []
   },
   "source": [
    "# Introduction #\n",
    "\n",
    "In this exercise, you'll apply target encoding to features in the [*Ames*](https://www.kaggle.com/c/house-prices-advanced-regression-techniques/data) dataset.\n",
    "\n",
    "Run this cell to set everything up!"
   ]
  },
  {
   "cell_type": "code",
   "execution_count": 1,
   "id": "7af6bd42",
   "metadata": {
    "execution": {
     "iopub.execute_input": "2021-12-30T13:44:34.841005Z",
     "iopub.status.busy": "2021-12-30T13:44:34.835452Z",
     "iopub.status.idle": "2021-12-30T13:44:36.548080Z",
     "shell.execute_reply": "2021-12-30T13:44:36.547383Z",
     "shell.execute_reply.started": "2021-12-30T13:21:03.006983Z"
    },
    "papermill": {
     "duration": 1.741749,
     "end_time": "2021-12-30T13:44:36.548242",
     "exception": false,
     "start_time": "2021-12-30T13:44:34.806493",
     "status": "completed"
    },
    "tags": []
   },
   "outputs": [],
   "source": [
    "# Setup feedback system\n",
    "from learntools.core import binder\n",
    "binder.bind(globals())\n",
    "from learntools.feature_engineering_new.ex6 import *\n",
    "\n",
    "import matplotlib.pyplot as plt\n",
    "import numpy as np\n",
    "import pandas as pd\n",
    "import seaborn as sns\n",
    "import warnings\n",
    "from category_encoders import MEstimateEncoder\n",
    "from sklearn.model_selection import cross_val_score\n",
    "from xgboost import XGBRegressor\n",
    "\n",
    "# Set Matplotlib defaults\n",
    "plt.style.use(\"seaborn-whitegrid\")\n",
    "plt.rc(\"figure\", autolayout=True)\n",
    "plt.rc(\n",
    "    \"axes\",\n",
    "    labelweight=\"bold\",\n",
    "    labelsize=\"large\",\n",
    "    titleweight=\"bold\",\n",
    "    titlesize=14,\n",
    "    titlepad=10,\n",
    ")\n",
    "warnings.filterwarnings('ignore')\n",
    "\n",
    "\n",
    "def score_dataset(X, y, model=XGBRegressor()):\n",
    "    # Label encoding for categoricals\n",
    "    for colname in X.select_dtypes([\"category\", \"object\"]):\n",
    "        X[colname], _ = X[colname].factorize()\n",
    "    # Metric for Housing competition is RMSLE (Root Mean Squared Log Error)\n",
    "    score = cross_val_score(\n",
    "        model, X, y, cv=5, scoring=\"neg_mean_squared_log_error\",\n",
    "    )\n",
    "    score = -1 * score.mean()\n",
    "    score = np.sqrt(score)\n",
    "    return score\n",
    "\n",
    "\n",
    "df = pd.read_csv(\"../input/fe-course-data/ames.csv\")"
   ]
  },
  {
   "cell_type": "markdown",
   "id": "2f431bce",
   "metadata": {
    "papermill": {
     "duration": 0.025037,
     "end_time": "2021-12-30T13:44:36.599375",
     "exception": false,
     "start_time": "2021-12-30T13:44:36.574338",
     "status": "completed"
    },
    "tags": []
   },
   "source": [
    "-------------------------------------------------------------------------------\n",
    "\n",
    "First you'll need to choose which features you want to apply a target encoding to. Categorical features with a large number of categories are often good candidates. Run this cell to see how many categories each categorical feature in the *Ames* dataset has."
   ]
  },
  {
   "cell_type": "code",
   "execution_count": 2,
   "id": "ce4e9642",
   "metadata": {
    "execution": {
     "iopub.execute_input": "2021-12-30T13:44:36.649607Z",
     "iopub.status.busy": "2021-12-30T13:44:36.648136Z",
     "iopub.status.idle": "2021-12-30T13:44:36.670269Z",
     "shell.execute_reply": "2021-12-30T13:44:36.670640Z",
     "shell.execute_reply.started": "2021-12-30T13:21:09.418749Z"
    },
    "papermill": {
     "duration": 0.050289,
     "end_time": "2021-12-30T13:44:36.670805",
     "exception": false,
     "start_time": "2021-12-30T13:44:36.620516",
     "status": "completed"
    },
    "tags": []
   },
   "outputs": [
    {
     "data": {
      "text/plain": [
       "MSSubClass       16\n",
       "MSZoning          7\n",
       "Street            2\n",
       "Alley             3\n",
       "LotShape          4\n",
       "LandContour       4\n",
       "Utilities         3\n",
       "LotConfig         5\n",
       "LandSlope         3\n",
       "Neighborhood     28\n",
       "Condition1        9\n",
       "Condition2        8\n",
       "BldgType          5\n",
       "HouseStyle        8\n",
       "OverallQual      10\n",
       "OverallCond       9\n",
       "RoofStyle         6\n",
       "RoofMatl          8\n",
       "Exterior1st      16\n",
       "Exterior2nd      17\n",
       "MasVnrType        5\n",
       "ExterQual         4\n",
       "ExterCond         5\n",
       "Foundation        6\n",
       "BsmtQual          6\n",
       "BsmtCond          6\n",
       "BsmtExposure      5\n",
       "BsmtFinType1      7\n",
       "BsmtFinType2      7\n",
       "Heating           6\n",
       "HeatingQC         5\n",
       "CentralAir        2\n",
       "Electrical        6\n",
       "KitchenQual       5\n",
       "Functional        8\n",
       "FireplaceQu       6\n",
       "GarageType        7\n",
       "GarageFinish      4\n",
       "GarageQual        6\n",
       "GarageCond        6\n",
       "PavedDrive        3\n",
       "PoolQC            5\n",
       "Fence             5\n",
       "MiscFeature       6\n",
       "SaleType         10\n",
       "SaleCondition     6\n",
       "dtype: int64"
      ]
     },
     "execution_count": 2,
     "metadata": {},
     "output_type": "execute_result"
    }
   ],
   "source": [
    "df.select_dtypes([\"object\"]).nunique()"
   ]
  },
  {
   "cell_type": "markdown",
   "id": "9dac1356",
   "metadata": {
    "papermill": {
     "duration": 0.016253,
     "end_time": "2021-12-30T13:44:36.703938",
     "exception": false,
     "start_time": "2021-12-30T13:44:36.687685",
     "status": "completed"
    },
    "tags": []
   },
   "source": [
    "In our previous exercises while performing the onehot encoding we considered the features with less than 10 categories as low-cardinality categories and applied one hot encoding, so here we will use the same concept and consider categories with more than 10 categories as high cardinality categories. i.e. MSSubClass,Neighborhood, Exterior1st and Exterior2nd"
   ]
  },
  {
   "cell_type": "markdown",
   "id": "25aa316f",
   "metadata": {
    "papermill": {
     "duration": 0.01666,
     "end_time": "2021-12-30T13:44:36.737529",
     "exception": false,
     "start_time": "2021-12-30T13:44:36.720869",
     "status": "completed"
    },
    "tags": []
   },
   "source": [
    "We talked about how the M-estimate encoding uses smoothing to improve estimates for rare categories. To see how many times a category occurs in the dataset, you can use the `value_counts` method. This cell shows the counts for `SaleType`, but you might want to consider others as well."
   ]
  },
  {
   "cell_type": "code",
   "execution_count": 3,
   "id": "79a244b8",
   "metadata": {
    "execution": {
     "iopub.execute_input": "2021-12-30T13:44:36.778766Z",
     "iopub.status.busy": "2021-12-30T13:44:36.778019Z",
     "iopub.status.idle": "2021-12-30T13:44:36.783377Z",
     "shell.execute_reply": "2021-12-30T13:44:36.782876Z",
     "shell.execute_reply.started": "2021-12-30T13:27:43.345972Z"
    },
    "papermill": {
     "duration": 0.029183,
     "end_time": "2021-12-30T13:44:36.783508",
     "exception": false,
     "start_time": "2021-12-30T13:44:36.754325",
     "status": "completed"
    },
    "tags": []
   },
   "outputs": [
    {
     "data": {
      "text/plain": [
       "One_Story_1946_and_Newer_All_Styles          1079\n",
       "Two_Story_1946_and_Newer                      575\n",
       "One_and_Half_Story_Finished_All_Ages          287\n",
       "One_Story_PUD_1946_and_Newer                  192\n",
       "One_Story_1945_and_Older                      139\n",
       "Two_Story_PUD_1946_and_Newer                  129\n",
       "Two_Story_1945_and_Older                      128\n",
       "Split_or_Multilevel                           118\n",
       "Duplex_All_Styles_and_Ages                    109\n",
       "Two_Family_conversion_All_Styles_and_Ages      61\n",
       "Split_Foyer                                    48\n",
       "Two_and_Half_Story_All_Ages                    23\n",
       "One_and_Half_Story_Unfinished_All_Ages         18\n",
       "PUD_Multilevel_Split_Level_Foyer               17\n",
       "One_Story_with_Finished_Attic_All_Ages          6\n",
       "One_and_Half_Story_PUD_All_Ages                 1\n",
       "Name: MSSubClass, dtype: int64"
      ]
     },
     "execution_count": 3,
     "metadata": {},
     "output_type": "execute_result"
    }
   ],
   "source": [
    "df[\"MSSubClass\"].value_counts()"
   ]
  },
  {
   "cell_type": "code",
   "execution_count": 4,
   "id": "ffd85c00",
   "metadata": {
    "execution": {
     "iopub.execute_input": "2021-12-30T13:44:36.838495Z",
     "iopub.status.busy": "2021-12-30T13:44:36.837962Z",
     "iopub.status.idle": "2021-12-30T13:44:36.844833Z",
     "shell.execute_reply": "2021-12-30T13:44:36.845219Z",
     "shell.execute_reply.started": "2021-12-30T13:29:50.973987Z"
    },
    "papermill": {
     "duration": 0.035616,
     "end_time": "2021-12-30T13:44:36.845355",
     "exception": false,
     "start_time": "2021-12-30T13:44:36.809739",
     "status": "completed"
    },
    "tags": []
   },
   "outputs": [
    {
     "data": {
      "text/plain": [
       "North_Ames                                 443\n",
       "College_Creek                              267\n",
       "Old_Town                                   239\n",
       "Edwards                                    194\n",
       "Somerset                                   182\n",
       "Northridge_Heights                         166\n",
       "Gilbert                                    165\n",
       "Sawyer                                     151\n",
       "Northwest_Ames                             131\n",
       "Sawyer_West                                125\n",
       "Mitchell                                   114\n",
       "Brookside                                  108\n",
       "Crawford                                   103\n",
       "Iowa_DOT_and_Rail_Road                      93\n",
       "Timberland                                  72\n",
       "Northridge                                  71\n",
       "Stone_Brook                                 51\n",
       "South_and_West_of_Iowa_State_University     48\n",
       "Clear_Creek                                 44\n",
       "Meadow_Village                              37\n",
       "Briardale                                   30\n",
       "Bloomington_Heights                         28\n",
       "Veenker                                     24\n",
       "Northpark_Villa                             23\n",
       "Blueste                                     10\n",
       "Greens                                       8\n",
       "Green_Hills                                  2\n",
       "Landmark                                     1\n",
       "Name: Neighborhood, dtype: int64"
      ]
     },
     "execution_count": 4,
     "metadata": {},
     "output_type": "execute_result"
    }
   ],
   "source": [
    "df[\"Neighborhood\"].value_counts()"
   ]
  },
  {
   "cell_type": "code",
   "execution_count": 5,
   "id": "37421932",
   "metadata": {
    "execution": {
     "iopub.execute_input": "2021-12-30T13:44:36.890490Z",
     "iopub.status.busy": "2021-12-30T13:44:36.889770Z",
     "iopub.status.idle": "2021-12-30T13:44:36.892902Z",
     "shell.execute_reply": "2021-12-30T13:44:36.893280Z",
     "shell.execute_reply.started": "2021-12-30T13:30:09.362721Z"
    },
    "papermill": {
     "duration": 0.030424,
     "end_time": "2021-12-30T13:44:36.893435",
     "exception": false,
     "start_time": "2021-12-30T13:44:36.863011",
     "status": "completed"
    },
    "tags": []
   },
   "outputs": [
    {
     "data": {
      "text/plain": [
       "VinylSd    1026\n",
       "MetalSd     450\n",
       "HdBoard     442\n",
       "Wd Sdng     420\n",
       "Plywood     221\n",
       "CemntBd     126\n",
       "BrkFace      88\n",
       "WdShing      56\n",
       "AsbShng      44\n",
       "Stucco       43\n",
       "BrkComm       6\n",
       "AsphShn       2\n",
       "CBlock        2\n",
       "Stone         2\n",
       "PreCast       1\n",
       "ImStucc       1\n",
       "Name: Exterior1st, dtype: int64"
      ]
     },
     "execution_count": 5,
     "metadata": {},
     "output_type": "execute_result"
    }
   ],
   "source": [
    "df[\"Exterior1st\"].value_counts()"
   ]
  },
  {
   "cell_type": "markdown",
   "id": "9ccbabde",
   "metadata": {
    "papermill": {
     "duration": 0.017317,
     "end_time": "2021-12-30T13:44:36.929493",
     "exception": false,
     "start_time": "2021-12-30T13:44:36.912176",
     "status": "completed"
    },
    "tags": []
   },
   "source": [
    "# 1) Choose Features for Encoding\n",
    "\n",
    "Which features did you identify for target encoding? After you've thought about your answer, run the next cell for some discussion."
   ]
  },
  {
   "cell_type": "markdown",
   "id": "28709a77",
   "metadata": {
    "papermill": {
     "duration": 0.017447,
     "end_time": "2021-12-30T13:44:36.964512",
     "exception": false,
     "start_time": "2021-12-30T13:44:36.947065",
     "status": "completed"
    },
    "tags": []
   },
   "source": [
    "<b> Answer : </b> I will be choosing 4 features for target encoding as these features are features with high cardinality. They are:\n",
    "\n",
    "* MSSubClass,\n",
    "* Neighborhood, \n",
    "* Exterior1st \n",
    "* Exterior2nd"
   ]
  },
  {
   "cell_type": "code",
   "execution_count": 6,
   "id": "e730ce7c",
   "metadata": {
    "execution": {
     "iopub.execute_input": "2021-12-30T13:44:37.005296Z",
     "iopub.status.busy": "2021-12-30T13:44:37.004546Z",
     "iopub.status.idle": "2021-12-30T13:44:37.009594Z",
     "shell.execute_reply": "2021-12-30T13:44:37.010397Z",
     "shell.execute_reply.started": "2021-12-30T13:30:56.285613Z"
    },
    "papermill": {
     "duration": 0.028435,
     "end_time": "2021-12-30T13:44:37.010568",
     "exception": false,
     "start_time": "2021-12-30T13:44:36.982133",
     "status": "completed"
    },
    "tags": []
   },
   "outputs": [
    {
     "data": {
      "application/javascript": [
       "parent.postMessage({\"jupyterEvent\": \"custom.exercise_interaction\", \"data\": {\"outcomeType\": 1, \"valueTowardsCompletion\": 0.3333333333333333, \"interactionType\": 1, \"questionType\": 4, \"questionId\": \"1_Q1\", \"learnToolsVersion\": \"0.3.4\", \"failureMessage\": \"\", \"exceptionClass\": \"\", \"trace\": \"\"}}, \"*\")"
      ],
      "text/plain": [
       "<IPython.core.display.Javascript object>"
      ]
     },
     "metadata": {},
     "output_type": "display_data"
    },
    {
     "data": {
      "text/markdown": [
       "<span style=\"color:#33cc33\">Correct:</span> \n",
       "\n",
       " The `Neighborhood` feature looks promising. It has the most categories of any feature, and several categories are rare. Others that could be worth considering are `SaleType`, `MSSubClass`, `Exterior1st`, `Exterior2nd`. In fact, almost any of the nominal features would be worth trying because of the prevalence of rare categories."
      ],
      "text/plain": [
       "Correct: \n",
       "\n",
       " The `Neighborhood` feature looks promising. It has the most categories of any feature, and several categories are rare. Others that could be worth considering are `SaleType`, `MSSubClass`, `Exterior1st`, `Exterior2nd`. In fact, almost any of the nominal features would be worth trying because of the prevalence of rare categories."
      ]
     },
     "metadata": {},
     "output_type": "display_data"
    }
   ],
   "source": [
    "# View the solution (Run this cell to receive credit!)\n",
    "q_1.check()"
   ]
  },
  {
   "cell_type": "markdown",
   "id": "5a13953e",
   "metadata": {
    "papermill": {
     "duration": 0.027614,
     "end_time": "2021-12-30T13:44:37.066366",
     "exception": false,
     "start_time": "2021-12-30T13:44:37.038752",
     "status": "completed"
    },
    "tags": []
   },
   "source": [
    "-------------------------------------------------------------------------------\n",
    "\n",
    "Now you'll apply a target encoding to your choice of feature. As we discussed in the tutorial, to avoid overfitting, we need to fit the encoder on data heldout from the training set. Run this cell to create the encoding and training splits:"
   ]
  },
  {
   "cell_type": "code",
   "execution_count": 7,
   "id": "e3f40f73",
   "metadata": {
    "execution": {
     "iopub.execute_input": "2021-12-30T13:44:37.127309Z",
     "iopub.status.busy": "2021-12-30T13:44:37.126174Z",
     "iopub.status.idle": "2021-12-30T13:44:37.141073Z",
     "shell.execute_reply": "2021-12-30T13:44:37.140421Z",
     "shell.execute_reply.started": "2021-12-30T13:33:52.579030Z"
    },
    "lines_to_next_cell": 2,
    "papermill": {
     "duration": 0.046897,
     "end_time": "2021-12-30T13:44:37.141220",
     "exception": false,
     "start_time": "2021-12-30T13:44:37.094323",
     "status": "completed"
    },
    "tags": []
   },
   "outputs": [],
   "source": [
    "# Encoding split\n",
    "X_encode = df.sample(frac=0.20, random_state=0)\n",
    "y_encode = X_encode.pop(\"SalePrice\")\n",
    "\n",
    "# Training split\n",
    "X_pretrain = df.drop(X_encode.index)\n",
    "y_train = X_pretrain.pop(\"SalePrice\")"
   ]
  },
  {
   "cell_type": "markdown",
   "id": "b1a3a426",
   "metadata": {
    "papermill": {
     "duration": 0.029977,
     "end_time": "2021-12-30T13:44:37.201622",
     "exception": false,
     "start_time": "2021-12-30T13:44:37.171645",
     "status": "completed"
    },
    "tags": []
   },
   "source": [
    "# 2) Apply M-Estimate Encoding\n",
    "\n",
    "Apply a target encoding to your choice of categorical features. Also choose a value for the smoothing parameter `m` (any value is okay for a correct answer)."
   ]
  },
  {
   "cell_type": "code",
   "execution_count": 8,
   "id": "cf28d57e",
   "metadata": {
    "execution": {
     "iopub.execute_input": "2021-12-30T13:44:37.265128Z",
     "iopub.status.busy": "2021-12-30T13:44:37.264460Z",
     "iopub.status.idle": "2021-12-30T13:44:37.371931Z",
     "shell.execute_reply": "2021-12-30T13:44:37.371489Z",
     "shell.execute_reply.started": "2021-12-30T13:38:19.952309Z"
    },
    "lines_to_next_cell": 0,
    "papermill": {
     "duration": 0.142044,
     "end_time": "2021-12-30T13:44:37.372038",
     "exception": false,
     "start_time": "2021-12-30T13:44:37.229994",
     "status": "completed"
    },
    "tags": []
   },
   "outputs": [
    {
     "data": {
      "application/javascript": [
       "parent.postMessage({\"jupyterEvent\": \"custom.exercise_interaction\", \"data\": {\"outcomeType\": 1, \"valueTowardsCompletion\": 0.3333333333333333, \"interactionType\": 1, \"questionType\": 2, \"questionId\": \"2_Q2\", \"learnToolsVersion\": \"0.3.4\", \"failureMessage\": \"\", \"exceptionClass\": \"\", \"trace\": \"\"}}, \"*\")"
      ],
      "text/plain": [
       "<IPython.core.display.Javascript object>"
      ]
     },
     "metadata": {},
     "output_type": "display_data"
    },
    {
     "data": {
      "text/markdown": [
       "<span style=\"color:#33cc33\">Correct</span>"
      ],
      "text/plain": [
       "Correct"
      ]
     },
     "metadata": {},
     "output_type": "display_data"
    }
   ],
   "source": [
    "from category_encoders import MEstimateEncoder\n",
    "\n",
    "# Choose a set of features to encode and a value for m\n",
    "encoder = MEstimateEncoder(cols = ['Neighborhood','MSSubClass','Exterior1st','Exterior2nd'])\n",
    "\n",
    "\n",
    "# Fit the encoder on the encoding split\n",
    "encoder.fit(X_encode,y_encode)\n",
    "\n",
    "# Encode the training split\n",
    "X_train = encoder.transform(X_pretrain, y_train)\n",
    "\n",
    "\n",
    "# Check your answer\n",
    "q_2.check()"
   ]
  },
  {
   "cell_type": "code",
   "execution_count": 9,
   "id": "01903234",
   "metadata": {
    "execution": {
     "iopub.execute_input": "2021-12-30T13:44:37.412581Z",
     "iopub.status.busy": "2021-12-30T13:44:37.412127Z",
     "iopub.status.idle": "2021-12-30T13:44:37.414415Z",
     "shell.execute_reply": "2021-12-30T13:44:37.414835Z"
    },
    "lines_to_next_cell": 0,
    "papermill": {
     "duration": 0.024478,
     "end_time": "2021-12-30T13:44:37.414949",
     "exception": false,
     "start_time": "2021-12-30T13:44:37.390471",
     "status": "completed"
    },
    "tags": []
   },
   "outputs": [],
   "source": [
    "# Lines below will give you a hint or solution code\n",
    "#q_2.hint()\n",
    "#q_2.solution()"
   ]
  },
  {
   "cell_type": "markdown",
   "id": "cdf25940",
   "metadata": {
    "papermill": {
     "duration": 0.018691,
     "end_time": "2021-12-30T13:44:37.453095",
     "exception": false,
     "start_time": "2021-12-30T13:44:37.434404",
     "status": "completed"
    },
    "tags": []
   },
   "source": [
    "If you'd like to see how the encoded feature compares to the target, you can run this cell:"
   ]
  },
  {
   "cell_type": "code",
   "execution_count": 10,
   "id": "934353ff",
   "metadata": {
    "execution": {
     "iopub.execute_input": "2021-12-30T13:44:37.494080Z",
     "iopub.status.busy": "2021-12-30T13:44:37.493547Z",
     "iopub.status.idle": "2021-12-30T13:44:37.822459Z",
     "shell.execute_reply": "2021-12-30T13:44:37.822878Z",
     "shell.execute_reply.started": "2021-12-30T13:38:29.313969Z"
    },
    "papermill": {
     "duration": 0.35089,
     "end_time": "2021-12-30T13:44:37.823024",
     "exception": false,
     "start_time": "2021-12-30T13:44:37.472134",
     "status": "completed"
    },
    "tags": []
   },
   "outputs": [
    {
     "data": {
      "image/png": "[encoded data removed]",
      "text/plain": [
       "<Figure size 540x360 with 1 Axes>"
      ]
     },
     "metadata": {},
     "output_type": "display_data"
    }
   ],
   "source": [
    "feature = encoder.cols\n",
    "\n",
    "plt.figure(dpi=90)\n",
    "ax = sns.distplot(y_train, kde=True, hist=False)\n",
    "ax = sns.distplot(X_train[feature], color='r', ax=ax, hist=True, kde=False, norm_hist=True)\n",
    "ax.set_xlabel(\"SalePrice\");"
   ]
  },
  {
   "cell_type": "markdown",
   "id": "710c0889",
   "metadata": {
    "papermill": {
     "duration": 0.019993,
     "end_time": "2021-12-30T13:44:37.863207",
     "exception": false,
     "start_time": "2021-12-30T13:44:37.843214",
     "status": "completed"
    },
    "tags": []
   },
   "source": [
    "From the distribution plots, does it seem like the encoding is informative?\n",
    "\n",
    "And this cell will show you the score of the encoded set compared to the original set:"
   ]
  },
  {
   "cell_type": "code",
   "execution_count": 11,
   "id": "e9cb3311",
   "metadata": {
    "execution": {
     "iopub.execute_input": "2021-12-30T13:44:37.908832Z",
     "iopub.status.busy": "2021-12-30T13:44:37.907920Z",
     "iopub.status.idle": "2021-12-30T13:44:44.135451Z",
     "shell.execute_reply": "2021-12-30T13:44:44.136010Z",
     "shell.execute_reply.started": "2021-12-30T13:40:20.118461Z"
    },
    "papermill": {
     "duration": 6.252356,
     "end_time": "2021-12-30T13:44:44.136192",
     "exception": false,
     "start_time": "2021-12-30T13:44:37.883836",
     "status": "completed"
    },
    "tags": []
   },
   "outputs": [
    {
     "name": "stdout",
     "output_type": "stream",
     "text": [
      "Baseline Score: 0.1428 RMSLE\n",
      "Score with Encoding: 0.1415 RMSLE\n"
     ]
    }
   ],
   "source": [
    "X = df.copy()\n",
    "y = X.pop(\"SalePrice\")\n",
    "score_base = score_dataset(X, y)\n",
    "score_new = score_dataset(X_train, y_train)\n",
    "\n",
    "print(f\"Baseline Score: {score_base:.4f} RMSLE\")\n",
    "print(f\"Score with Encoding: {score_new:.4f} RMSLE\")"
   ]
  },
  {
   "cell_type": "markdown",
   "id": "5670a124",
   "metadata": {
    "papermill": {
     "duration": 0.019756,
     "end_time": "2021-12-30T13:44:44.181577",
     "exception": false,
     "start_time": "2021-12-30T13:44:44.161821",
     "status": "completed"
    },
    "tags": []
   },
   "source": [
    "Do you think that target encoding was worthwhile in this case? Depending on which feature or features you chose, you may have ended up with a score significantly worse than the baseline. In that case, it's likely the extra information gained by the encoding couldn't make up for the loss of data used for the encoding."
   ]
  },
  {
   "cell_type": "markdown",
   "id": "753d17ca",
   "metadata": {
    "papermill": {
     "duration": 0.019163,
     "end_time": "2021-12-30T13:44:44.220667",
     "exception": false,
     "start_time": "2021-12-30T13:44:44.201504",
     "status": "completed"
    },
    "tags": []
   },
   "source": [
    "-------------------------------------------------------------------------------\n",
    "\n",
    "In this question, you'll explore the problem of overfitting with target encodings. This will illustrate this importance of training fitting target encoders on data held-out from the training set.\n",
    "\n",
    "So let's see what happens when we fit the encoder and the model on the *same* dataset. To emphasize how dramatic the overfitting can be, we'll mean-encode a feature that should have no relationship with `SalePrice`, a count: `0, 1, 2, 3, 4, 5, ...`."
   ]
  },
  {
   "cell_type": "code",
   "execution_count": 12,
   "id": "9f1b5948",
   "metadata": {
    "execution": {
     "iopub.execute_input": "2021-12-30T13:44:44.267204Z",
     "iopub.status.busy": "2021-12-30T13:44:44.266498Z",
     "iopub.status.idle": "2021-12-30T13:44:47.706571Z",
     "shell.execute_reply": "2021-12-30T13:44:47.707259Z",
     "shell.execute_reply.started": "2021-12-30T13:41:55.154302Z"
    },
    "papermill": {
     "duration": 3.467415,
     "end_time": "2021-12-30T13:44:47.707435",
     "exception": false,
     "start_time": "2021-12-30T13:44:44.240020",
     "status": "completed"
    },
    "tags": []
   },
   "outputs": [
    {
     "name": "stdout",
     "output_type": "stream",
     "text": [
      "Score: 0.0293 RMSLE\n"
     ]
    }
   ],
   "source": [
    "# Try experimenting with the smoothing parameter m\n",
    "# Try 0, 1, 5, 50\n",
    "m = 0\n",
    "\n",
    "X = df.copy()\n",
    "y = X.pop('SalePrice')\n",
    "\n",
    "# Create an uninformative feature\n",
    "X[\"Count\"] = range(len(X))\n",
    "X[\"Count\"][1] = 0  # actually need one duplicate value to circumvent error-checking in MEstimateEncoder\n",
    "\n",
    "# fit and transform on the same dataset\n",
    "encoder = MEstimateEncoder(cols=\"Count\", m=m)\n",
    "X = encoder.fit_transform(X, y)\n",
    "\n",
    "# Results\n",
    "score =  score_dataset(X, y)\n",
    "print(f\"Score: {score:.4f} RMSLE\")"
   ]
  },
  {
   "cell_type": "markdown",
   "id": "f5ea1bbf",
   "metadata": {
    "papermill": {
     "duration": 0.019937,
     "end_time": "2021-12-30T13:44:47.749583",
     "exception": false,
     "start_time": "2021-12-30T13:44:47.729646",
     "status": "completed"
    },
    "tags": []
   },
   "source": [
    "Almost a perfect score!"
   ]
  },
  {
   "cell_type": "code",
   "execution_count": 13,
   "id": "3e3b90f1",
   "metadata": {
    "execution": {
     "iopub.execute_input": "2021-12-30T13:44:47.811098Z",
     "iopub.status.busy": "2021-12-30T13:44:47.810006Z",
     "iopub.status.idle": "2021-12-30T13:44:48.086505Z",
     "shell.execute_reply": "2021-12-30T13:44:48.086913Z",
     "shell.execute_reply.started": "2021-12-30T13:42:05.726806Z"
    },
    "papermill": {
     "duration": 0.317437,
     "end_time": "2021-12-30T13:44:48.087049",
     "exception": false,
     "start_time": "2021-12-30T13:44:47.769612",
     "status": "completed"
    },
    "tags": []
   },
   "outputs": [
    {
     "data": {
      "image/png": "[encoded data removed]",
      "text/plain": [
       "<Figure size 540x360 with 1 Axes>"
      ]
     },
     "metadata": {},
     "output_type": "display_data"
    }
   ],
   "source": [
    "plt.figure(dpi=90)\n",
    "ax = sns.distplot(y, kde=True, hist=False)\n",
    "ax = sns.distplot(X[\"Count\"], color='r', ax=ax, hist=True, kde=False, norm_hist=True)\n",
    "ax.set_xlabel(\"SalePrice\");"
   ]
  },
  {
   "cell_type": "markdown",
   "id": "7afc2513",
   "metadata": {
    "papermill": {
     "duration": 0.020992,
     "end_time": "2021-12-30T13:44:48.129427",
     "exception": false,
     "start_time": "2021-12-30T13:44:48.108435",
     "status": "completed"
    },
    "tags": []
   },
   "source": [
    "And the distributions are almost exactly the same, too.\n",
    "\n",
    "# 3) Overfitting with Target Encoders\n",
    "\n",
    "Based on your understanding of how mean-encoding works, can you explain how XGBoost was able to get an almost a perfect fit after mean-encoding the count feature?"
   ]
  },
  {
   "cell_type": "code",
   "execution_count": 14,
   "id": "6333d2c4",
   "metadata": {
    "execution": {
     "iopub.execute_input": "2021-12-30T13:44:48.177508Z",
     "iopub.status.busy": "2021-12-30T13:44:48.176731Z",
     "iopub.status.idle": "2021-12-30T13:44:48.183859Z",
     "shell.execute_reply": "2021-12-30T13:44:48.183302Z",
     "shell.execute_reply.started": "2021-12-30T13:43:58.189097Z"
    },
    "lines_to_next_cell": 0,
    "papermill": {
     "duration": 0.032959,
     "end_time": "2021-12-30T13:44:48.183974",
     "exception": false,
     "start_time": "2021-12-30T13:44:48.151015",
     "status": "completed"
    },
    "tags": []
   },
   "outputs": [
    {
     "data": {
      "application/javascript": [
       "parent.postMessage({\"jupyterEvent\": \"custom.exercise_interaction\", \"data\": {\"outcomeType\": 1, \"valueTowardsCompletion\": 0.3333333333333333, \"interactionType\": 1, \"questionType\": 4, \"questionId\": \"3_Q3\", \"learnToolsVersion\": \"0.3.4\", \"failureMessage\": \"\", \"exceptionClass\": \"\", \"trace\": \"\"}}, \"*\")"
      ],
      "text/plain": [
       "<IPython.core.display.Javascript object>"
      ]
     },
     "metadata": {},
     "output_type": "display_data"
    },
    {
     "data": {
      "text/markdown": [
       "<span style=\"color:#33cc33\">Correct:</span> \n",
       "\n",
       "\n",
       "Since `Count` never has any duplicate values, the mean-encoded `Count` is essentially an exact copy of the target. In other words, mean-encoding turned a completely meaningless feature into a perfect feature.\n",
       "\n",
       "Now, the only reason this worked is because we trained XGBoost on the same set we used to train the encoder. If we had used a hold-out set instead, none of this \"fake\" encoding would have transferred to the training data.\n",
       "\n",
       "The lesson is that when using a target encoder it's very important to use separate data sets for training the encoder and training the model. Otherwise the results can be very disappointing!\n"
      ],
      "text/plain": [
       "Correct: \n",
       "\n",
       "\n",
       "Since `Count` never has any duplicate values, the mean-encoded `Count` is essentially an exact copy of the target. In other words, mean-encoding turned a completely meaningless feature into a perfect feature.\n",
       "\n",
       "Now, the only reason this worked is because we trained XGBoost on the same set we used to train the encoder. If we had used a hold-out set instead, none of this \"fake\" encoding would have transferred to the training data.\n",
       "\n",
       "The lesson is that when using a target encoder it's very important to use separate data sets for training the encoder and training the model. Otherwise the results can be very disappointing!"
      ]
     },
     "metadata": {},
     "output_type": "display_data"
    }
   ],
   "source": [
    "# View the solution (Run this cell to receive credit!)\n",
    "q_3.check()"
   ]
  },
  {
   "cell_type": "code",
   "execution_count": 15,
   "id": "5f3e01b8",
   "metadata": {
    "execution": {
     "iopub.execute_input": "2021-12-30T13:44:48.232991Z",
     "iopub.status.busy": "2021-12-30T13:44:48.232280Z",
     "iopub.status.idle": "2021-12-30T13:44:48.233489Z",
     "shell.execute_reply": "2021-12-30T13:44:48.233883Z"
    },
    "papermill": {
     "duration": 0.027893,
     "end_time": "2021-12-30T13:44:48.234018",
     "exception": false,
     "start_time": "2021-12-30T13:44:48.206125",
     "status": "completed"
    },
    "tags": []
   },
   "outputs": [],
   "source": [
    "# Uncomment this if you'd like a hint before seeing the answer\n",
    "#q_3.hint()"
   ]
  },
  {
   "cell_type": "markdown",
   "id": "5dfebfbe",
   "metadata": {
    "papermill": {
     "duration": 0.021907,
     "end_time": "2021-12-30T13:44:48.278013",
     "exception": false,
     "start_time": "2021-12-30T13:44:48.256106",
     "status": "completed"
    },
    "tags": []
   },
   "source": [
    "# The End #\n",
    "\n",
    "That's it for *Feature Engineering*! We hope you enjoyed your time with us.\n",
    "\n",
    "Now, are you ready to try out your new skills? Now would be a great time to join our [Housing Prices](https://www.kaggle.com/c/house-prices-advanced-regression-techniques) Getting Started competition. We've even prepared a [Bonus Lesson]() that collects all the work we've done together into a starter notebook.\n",
    "\n",
    "# References #\n",
    "Here are some great resources you might like to consult for more information. They all played a part in shaping this course:\n",
    "- *The Art of Feature Engineering*, a book by Pablo Duboue.\n",
    "- *An Empirical Analysis of Feature Engineering for Predictive Modeling*, an article by Jeff Heaton.\n",
    "- *Feature Engineering for Machine Learning*, a book by Alice Zheng and Amanda Casari. The tutorial on clustering was inspired by this excellent book.\n",
    "- *Feature Engineering and Selection*, a book by Max Kuhn and Kjell Johnson."
   ]
  }
 ],
 "metadata": {
  "kernelspec": {
   "display_name": "Python 3",
   "language": "python",
   "name": "python3"
  },
  "language_info": {
   "codemirror_mode": {
    "name": "ipython",
    "version": 3
   },
   "file_extension": ".py",
   "mimetype": "text/x-python",
   "name": "python",
   "nbconvert_exporter": "python",
   "pygments_lexer": "ipython3",
   "version": "3.7.12"
  },
  "papermill": {
   "default_parameters": {},
   "duration": 22.679088,
   "end_time": "2021-12-30T13:44:49.009069",
   "environment_variables": {},
   "exception": null,
   "input_path": "__notebook__.ipynb",
   "output_path": "__notebook__.ipynb",
   "parameters": {},
   "start_time": "2021-12-30T13:44:26.329981",
   "version": "2.3.3"
  }
 },
 "nbformat": 4,
 "nbformat_minor": 5
}
