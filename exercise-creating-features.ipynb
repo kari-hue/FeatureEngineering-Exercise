{
 "cells": [
  {
   "cell_type": "markdown",
   "id": "c1b1a472",
   "metadata": {
    "papermill": {
     "duration": 0.018385,
     "end_time": "2021-12-30T07:27:53.987636",
     "exception": false,
     "start_time": "2021-12-30T07:27:53.969251",
     "status": "completed"
    },
    "tags": []
   },
   "source": [
    "**This notebook is an exercise in the [Feature Engineering](https://www.kaggle.com/learn/feature-engineering) course.  You can reference the tutorial at [this link](https://www.kaggle.com/ryanholbrook/creating-features).**\n",
    "\n",
    "---\n"
   ]
  },
  {
   "cell_type": "markdown",
   "id": "445ce70a",
   "metadata": {
    "papermill": {
     "duration": 0.014301,
     "end_time": "2021-12-30T07:27:54.019885",
     "exception": false,
     "start_time": "2021-12-30T07:27:54.005584",
     "status": "completed"
    },
    "tags": []
   },
   "source": [
    "# Introduction #\n",
    "\n",
    "In this exercise you'll start developing the features you identified in Exercise 2 as having the most potential. As you work through this exercise, you might take a moment to look at the data documentation again and consider whether the features we're creating make sense from a real-world perspective, and whether there are any useful combinations that stand out to you.\n",
    "\n",
    "Run this cell to set everything up!"
   ]
  },
  {
   "cell_type": "code",
   "execution_count": 1,
   "id": "6a794ed3",
   "metadata": {
    "execution": {
     "iopub.execute_input": "2021-12-30T07:27:54.061425Z",
     "iopub.status.busy": "2021-12-30T07:27:54.051339Z",
     "iopub.status.idle": "2021-12-30T07:27:55.358654Z",
     "shell.execute_reply": "2021-12-30T07:27:55.357955Z",
     "shell.execute_reply.started": "2021-12-30T07:02:31.826129Z"
    },
    "papermill": {
     "duration": 1.3271,
     "end_time": "2021-12-30T07:27:55.358818",
     "exception": false,
     "start_time": "2021-12-30T07:27:54.031718",
     "status": "completed"
    },
    "tags": []
   },
   "outputs": [],
   "source": [
    "# Setup feedback system\n",
    "from learntools.core import binder\n",
    "binder.bind(globals())\n",
    "from learntools.feature_engineering_new.ex3 import *\n",
    "\n",
    "import numpy as np\n",
    "import pandas as pd\n",
    "from sklearn.model_selection import cross_val_score\n",
    "from xgboost import XGBRegressor\n",
    "\n",
    "\n",
    "def score_dataset(X, y, model=XGBRegressor()):\n",
    "    # Label encoding for categoricals\n",
    "    for colname in X.select_dtypes([\"category\", \"object\"]):\n",
    "        X[colname], _ = X[colname].factorize()\n",
    "    # Metric for Housing competition is RMSLE (Root Mean Squared Log Error)\n",
    "    score = cross_val_score(\n",
    "        model, X, y, cv=5, scoring=\"neg_mean_squared_log_error\",\n",
    "    )\n",
    "    score = -1 * score.mean()\n",
    "    score = np.sqrt(score)\n",
    "    return score\n",
    "\n",
    "\n",
    "# Prepare data\n",
    "df = pd.read_csv(\"../input/fe-course-data/ames.csv\")\n",
    "X = df.copy()\n",
    "y = X.pop(\"SalePrice\")"
   ]
  },
  {
   "cell_type": "markdown",
   "id": "214a8743",
   "metadata": {
    "papermill": {
     "duration": 0.011389,
     "end_time": "2021-12-30T07:27:55.382015",
     "exception": false,
     "start_time": "2021-12-30T07:27:55.370626",
     "status": "completed"
    },
    "tags": []
   },
   "source": [
    "-------------------------------------------------------------------------------\n",
    "\n",
    "Let's start with a few mathematical combinations. We'll focus on features describing areas -- having the same units (square-feet) makes it easy to combine them in sensible ways. Since we're using XGBoost (a tree-based model), we'll focus on ratios and sums.\n",
    "\n",
    "# 1) Create Mathematical Transforms\n",
    "\n",
    "Create the following features:\n",
    "\n",
    "- `LivLotRatio`: the ratio of `GrLivArea` to `LotArea`\n",
    "- `Spaciousness`: the sum of `FirstFlrSF` and `SecondFlrSF` divided by `TotRmsAbvGrd`\n",
    "- `TotalOutsideSF`: the sum of `WoodDeckSF`, `OpenPorchSF`, `EnclosedPorch`, `Threeseasonporch`, and `ScreenPorch`"
   ]
  },
  {
   "cell_type": "code",
   "execution_count": 2,
   "id": "19232479",
   "metadata": {
    "execution": {
     "iopub.execute_input": "2021-12-30T07:27:55.415799Z",
     "iopub.status.busy": "2021-12-30T07:27:55.411591Z",
     "iopub.status.idle": "2021-12-30T07:27:55.429003Z",
     "shell.execute_reply": "2021-12-30T07:27:55.429556Z",
     "shell.execute_reply.started": "2021-12-30T07:02:39.214466Z"
    },
    "lines_to_next_cell": 0,
    "papermill": {
     "duration": 0.035889,
     "end_time": "2021-12-30T07:27:55.429719",
     "exception": false,
     "start_time": "2021-12-30T07:27:55.393830",
     "status": "completed"
    },
    "tags": []
   },
   "outputs": [
    {
     "data": {
      "application/javascript": [
       "parent.postMessage({\"jupyterEvent\": \"custom.exercise_interaction\", \"data\": {\"outcomeType\": 1, \"valueTowardsCompletion\": 0.2, \"interactionType\": 1, \"questionType\": 2, \"questionId\": \"1_Q1\", \"learnToolsVersion\": \"0.3.4\", \"failureMessage\": \"\", \"exceptionClass\": \"\", \"trace\": \"\"}}, \"*\")"
      ],
      "text/plain": [
       "<IPython.core.display.Javascript object>"
      ]
     },
     "metadata": {},
     "output_type": "display_data"
    },
    {
     "data": {
      "text/markdown": [
       "<span style=\"color:#33cc33\">Correct</span>"
      ],
      "text/plain": [
       "Correct"
      ]
     },
     "metadata": {},
     "output_type": "display_data"
    }
   ],
   "source": [
    "# YOUR CODE HERE\n",
    "X_1 = pd.DataFrame()  # dataframe to hold new features\n",
    "\n",
    "X_1[\"LivLotRatio\"] = X['GrLivArea'] / X['LotArea']\n",
    "X_1[\"Spaciousness\"] = (X['FirstFlrSF'] + X['SecondFlrSF']) / X['TotRmsAbvGrd']\n",
    "X_1[\"TotalOutsideSF\"] = (X['WoodDeckSF'] +X['OpenPorchSF']+X['EnclosedPorch']+X['Threeseasonporch']+X['ScreenPorch'] ) \n",
    "\n",
    "\n",
    "# Check your answer\n",
    "q_1.check()"
   ]
  },
  {
   "cell_type": "code",
   "execution_count": 3,
   "id": "153f5fe8",
   "metadata": {
    "execution": {
     "iopub.execute_input": "2021-12-30T07:27:55.458701Z",
     "iopub.status.busy": "2021-12-30T07:27:55.458108Z",
     "iopub.status.idle": "2021-12-30T07:27:55.461352Z",
     "shell.execute_reply": "2021-12-30T07:27:55.461841Z"
    },
    "lines_to_next_cell": 0,
    "papermill": {
     "duration": 0.018638,
     "end_time": "2021-12-30T07:27:55.461999",
     "exception": false,
     "start_time": "2021-12-30T07:27:55.443361",
     "status": "completed"
    },
    "tags": []
   },
   "outputs": [],
   "source": [
    "# Lines below will give you a hint or solution code\n",
    "#q_1.hint()\n",
    "#q_1.solution()"
   ]
  },
  {
   "cell_type": "markdown",
   "id": "72067056",
   "metadata": {
    "papermill": {
     "duration": 0.013181,
     "end_time": "2021-12-30T07:27:55.487757",
     "exception": false,
     "start_time": "2021-12-30T07:27:55.474576",
     "status": "completed"
    },
    "tags": []
   },
   "source": [
    "-------------------------------------------------------------------------------\n",
    "\n",
    "If you've discovered an interaction effect between a numeric feature and a categorical feature, you might want to model it explicitly using a one-hot encoding, like so:\n",
    "\n",
    "```\n",
    "# One-hot encode Categorical feature, adding a column prefix \"Cat\"\n",
    "X_new = pd.get_dummies(df.Categorical, prefix=\"Cat\")\n",
    "\n",
    "# Multiply row-by-row\n",
    "X_new = X_new.mul(df.Continuous, axis=0)\n",
    "\n",
    "# Join the new features to the feature set\n",
    "X = X.join(X_new)\n",
    "```\n",
    "\n",
    "# 2) Interaction with a Categorical\n",
    "\n",
    "We discovered an interaction between `BldgType` and `GrLivArea` in Exercise 2. Now create their interaction features."
   ]
  },
  {
   "cell_type": "code",
   "execution_count": 4,
   "id": "40371c45",
   "metadata": {
    "execution": {
     "iopub.execute_input": "2021-12-30T07:27:55.520449Z",
     "iopub.status.busy": "2021-12-30T07:27:55.519821Z",
     "iopub.status.idle": "2021-12-30T07:27:55.542227Z",
     "shell.execute_reply": "2021-12-30T07:27:55.543020Z",
     "shell.execute_reply.started": "2021-12-30T07:04:39.413638Z"
    },
    "lines_to_next_cell": 0,
    "papermill": {
     "duration": 0.041896,
     "end_time": "2021-12-30T07:27:55.543261",
     "exception": false,
     "start_time": "2021-12-30T07:27:55.501365",
     "status": "completed"
    },
    "tags": []
   },
   "outputs": [
    {
     "data": {
      "application/javascript": [
       "parent.postMessage({\"jupyterEvent\": \"custom.exercise_interaction\", \"data\": {\"outcomeType\": 1, \"valueTowardsCompletion\": 0.2, \"interactionType\": 1, \"questionType\": 2, \"questionId\": \"2_Q2\", \"learnToolsVersion\": \"0.3.4\", \"failureMessage\": \"\", \"exceptionClass\": \"\", \"trace\": \"\"}}, \"*\")"
      ],
      "text/plain": [
       "<IPython.core.display.Javascript object>"
      ]
     },
     "metadata": {},
     "output_type": "display_data"
    },
    {
     "data": {
      "text/markdown": [
       "<span style=\"color:#33cc33\">Correct</span>"
      ],
      "text/plain": [
       "Correct"
      ]
     },
     "metadata": {},
     "output_type": "display_data"
    }
   ],
   "source": [
    "\n",
    "# One-hot encode BldgType. Use `prefix=\"Bldg\"` in `get_dummies`\n",
    "X_2 = pd.get_dummies(df.BldgType, prefix=\"Bldg\")\n",
    "# Multiply\n",
    "X_2 = X_2.mul(df.GrLivArea,axis = 0)\n",
    "\n",
    "X = X.join(X_2)\n",
    "\n",
    "\n",
    "# Check your answer\n",
    "q_2.check()"
   ]
  },
  {
   "cell_type": "code",
   "execution_count": 5,
   "id": "d50735d7",
   "metadata": {
    "execution": {
     "iopub.execute_input": "2021-12-30T07:27:55.587112Z",
     "iopub.status.busy": "2021-12-30T07:27:55.586173Z",
     "iopub.status.idle": "2021-12-30T07:27:55.589667Z",
     "shell.execute_reply": "2021-12-30T07:27:55.590163Z",
     "shell.execute_reply.started": "2021-12-30T07:04:07.297828Z"
    },
    "lines_to_next_cell": 0,
    "papermill": {
     "duration": 0.025101,
     "end_time": "2021-12-30T07:27:55.590322",
     "exception": false,
     "start_time": "2021-12-30T07:27:55.565221",
     "status": "completed"
    },
    "tags": []
   },
   "outputs": [],
   "source": [
    "# Lines below will give you a hint or solution code\n",
    "#q_2.hint()\n",
    "# q_2.solution()"
   ]
  },
  {
   "cell_type": "markdown",
   "id": "82a9101e",
   "metadata": {
    "lines_to_next_cell": 0,
    "papermill": {
     "duration": 0.013475,
     "end_time": "2021-12-30T07:27:55.620801",
     "exception": false,
     "start_time": "2021-12-30T07:27:55.607326",
     "status": "completed"
    },
    "tags": []
   },
   "source": [
    "# 3) Count Feature\n",
    "\n",
    "Let's try creating a feature that describes how many kinds of outdoor areas a dwelling has. Create a feature `PorchTypes` that counts how many of the following are greater than 0.0:\n",
    "\n",
    "```\n",
    "WoodDeckSF\n",
    "OpenPorchSF\n",
    "EnclosedPorch\n",
    "Threeseasonporch\n",
    "ScreenPorch\n",
    "```"
   ]
  },
  {
   "cell_type": "code",
   "execution_count": 6,
   "id": "246e3806",
   "metadata": {
    "execution": {
     "iopub.execute_input": "2021-12-30T07:27:55.651819Z",
     "iopub.status.busy": "2021-12-30T07:27:55.650908Z",
     "iopub.status.idle": "2021-12-30T07:27:55.665749Z",
     "shell.execute_reply": "2021-12-30T07:27:55.666179Z",
     "shell.execute_reply.started": "2021-12-30T07:12:36.406572Z"
    },
    "lines_to_next_cell": 0,
    "papermill": {
     "duration": 0.031506,
     "end_time": "2021-12-30T07:27:55.666333",
     "exception": false,
     "start_time": "2021-12-30T07:27:55.634827",
     "status": "completed"
    },
    "tags": []
   },
   "outputs": [
    {
     "data": {
      "application/javascript": [
       "parent.postMessage({\"jupyterEvent\": \"custom.exercise_interaction\", \"data\": {\"outcomeType\": 1, \"valueTowardsCompletion\": 0.2, \"interactionType\": 1, \"questionType\": 2, \"questionId\": \"3_Q3\", \"learnToolsVersion\": \"0.3.4\", \"failureMessage\": \"\", \"exceptionClass\": \"\", \"trace\": \"\"}}, \"*\")"
      ],
      "text/plain": [
       "<IPython.core.display.Javascript object>"
      ]
     },
     "metadata": {},
     "output_type": "display_data"
    },
    {
     "data": {
      "text/markdown": [
       "<span style=\"color:#33cc33\">Correct</span>"
      ],
      "text/plain": [
       "Correct"
      ]
     },
     "metadata": {},
     "output_type": "display_data"
    }
   ],
   "source": [
    "X_3 = pd.DataFrame()\n",
    "\n",
    "# YOUR CODE HERE\n",
    "X_3[\"PorchTypes\"] = df[[\n",
    "    \"WoodDeckSF\",\n",
    "    \"OpenPorchSF\",\n",
    "    \"EnclosedPorch\",\n",
    "    \"Threeseasonporch\",\n",
    "    \"ScreenPorch\",\n",
    "]].gt(0.0).sum(axis=1)\n",
    "\n",
    "# Check your answer\n",
    "q_3.check()"
   ]
  },
  {
   "cell_type": "code",
   "execution_count": 7,
   "id": "4cdae56a",
   "metadata": {
    "execution": {
     "iopub.execute_input": "2021-12-30T07:27:55.697991Z",
     "iopub.status.busy": "2021-12-30T07:27:55.697355Z",
     "iopub.status.idle": "2021-12-30T07:27:55.699988Z",
     "shell.execute_reply": "2021-12-30T07:27:55.700381Z",
     "shell.execute_reply.started": "2021-12-30T07:12:22.602006Z"
    },
    "lines_to_next_cell": 0,
    "papermill": {
     "duration": 0.020342,
     "end_time": "2021-12-30T07:27:55.700575",
     "exception": false,
     "start_time": "2021-12-30T07:27:55.680233",
     "status": "completed"
    },
    "tags": []
   },
   "outputs": [],
   "source": [
    "# Lines below will give you a hint or solution code\n",
    "#q_3.hint()\n",
    "# q_3.solution()"
   ]
  },
  {
   "cell_type": "markdown",
   "id": "92c724ba",
   "metadata": {
    "papermill": {
     "duration": 0.013568,
     "end_time": "2021-12-30T07:27:55.728103",
     "exception": false,
     "start_time": "2021-12-30T07:27:55.714535",
     "status": "completed"
    },
    "tags": []
   },
   "source": [
    "# 4) Break Down a Categorical Feature\n",
    "\n",
    "`MSSubClass` describes the type of a dwelling:"
   ]
  },
  {
   "cell_type": "code",
   "execution_count": 8,
   "id": "b786c89d",
   "metadata": {
    "execution": {
     "iopub.execute_input": "2021-12-30T07:27:55.759144Z",
     "iopub.status.busy": "2021-12-30T07:27:55.758546Z",
     "iopub.status.idle": "2021-12-30T07:27:55.764329Z",
     "shell.execute_reply": "2021-12-30T07:27:55.764900Z",
     "shell.execute_reply.started": "2021-12-30T07:13:19.518925Z"
    },
    "papermill": {
     "duration": 0.023022,
     "end_time": "2021-12-30T07:27:55.765069",
     "exception": false,
     "start_time": "2021-12-30T07:27:55.742047",
     "status": "completed"
    },
    "tags": []
   },
   "outputs": [
    {
     "data": {
      "text/plain": [
       "array(['One_Story_1946_and_Newer_All_Styles', 'Two_Story_1946_and_Newer',\n",
       "       'One_Story_PUD_1946_and_Newer',\n",
       "       'One_and_Half_Story_Finished_All_Ages', 'Split_Foyer',\n",
       "       'Two_Story_PUD_1946_and_Newer', 'Split_or_Multilevel',\n",
       "       'One_Story_1945_and_Older', 'Duplex_All_Styles_and_Ages',\n",
       "       'Two_Family_conversion_All_Styles_and_Ages',\n",
       "       'One_and_Half_Story_Unfinished_All_Ages',\n",
       "       'Two_Story_1945_and_Older', 'Two_and_Half_Story_All_Ages',\n",
       "       'One_Story_with_Finished_Attic_All_Ages',\n",
       "       'PUD_Multilevel_Split_Level_Foyer',\n",
       "       'One_and_Half_Story_PUD_All_Ages'], dtype=object)"
      ]
     },
     "execution_count": 8,
     "metadata": {},
     "output_type": "execute_result"
    }
   ],
   "source": [
    "df.MSSubClass.unique()"
   ]
  },
  {
   "cell_type": "markdown",
   "id": "b7631718",
   "metadata": {
    "papermill": {
     "duration": 0.014044,
     "end_time": "2021-12-30T07:27:55.793377",
     "exception": false,
     "start_time": "2021-12-30T07:27:55.779333",
     "status": "completed"
    },
    "tags": []
   },
   "source": [
    "You can see that there is a more general categorization described (roughly) by the first word of each category. Create a feature containing only these first words by splitting `MSSubClass` at the first underscore `_`. (Hint: In the `split` method use an argument `n=1`.)"
   ]
  },
  {
   "cell_type": "code",
   "execution_count": 9,
   "id": "f05866b1",
   "metadata": {
    "execution": {
     "iopub.execute_input": "2021-12-30T07:27:55.825764Z",
     "iopub.status.busy": "2021-12-30T07:27:55.824799Z",
     "iopub.status.idle": "2021-12-30T07:27:55.845104Z",
     "shell.execute_reply": "2021-12-30T07:27:55.845614Z",
     "shell.execute_reply.started": "2021-12-30T07:23:09.590203Z"
    },
    "lines_to_next_cell": 0,
    "papermill": {
     "duration": 0.038127,
     "end_time": "2021-12-30T07:27:55.845782",
     "exception": false,
     "start_time": "2021-12-30T07:27:55.807655",
     "status": "completed"
    },
    "tags": []
   },
   "outputs": [
    {
     "data": {
      "application/javascript": [
       "parent.postMessage({\"jupyterEvent\": \"custom.exercise_interaction\", \"data\": {\"outcomeType\": 1, \"valueTowardsCompletion\": 0.2, \"interactionType\": 1, \"questionType\": 2, \"questionId\": \"4_Q4\", \"learnToolsVersion\": \"0.3.4\", \"failureMessage\": \"\", \"exceptionClass\": \"\", \"trace\": \"\"}}, \"*\")"
      ],
      "text/plain": [
       "<IPython.core.display.Javascript object>"
      ]
     },
     "metadata": {},
     "output_type": "display_data"
    },
    {
     "data": {
      "text/markdown": [
       "<span style=\"color:#33cc33\">Correct</span>"
      ],
      "text/plain": [
       "Correct"
      ]
     },
     "metadata": {},
     "output_type": "display_data"
    }
   ],
   "source": [
    "X_4 = pd.DataFrame()\n",
    "\n",
    "# YOUR CODE HERE\n",
    "X_4['MSClass'] = df['MSSubClass'].str.split(\"_\",n = 1,expand = True)[0]\n",
    "\n",
    "\n",
    "# Check your answer\n",
    "q_4.check()"
   ]
  },
  {
   "cell_type": "code",
   "execution_count": 10,
   "id": "88889c6b",
   "metadata": {
    "execution": {
     "iopub.execute_input": "2021-12-30T07:27:55.879756Z",
     "iopub.status.busy": "2021-12-30T07:27:55.878848Z",
     "iopub.status.idle": "2021-12-30T07:27:55.881994Z",
     "shell.execute_reply": "2021-12-30T07:27:55.882537Z",
     "shell.execute_reply.started": "2021-12-30T07:23:19.532251Z"
    },
    "lines_to_next_cell": 0,
    "papermill": {
     "duration": 0.021983,
     "end_time": "2021-12-30T07:27:55.882693",
     "exception": false,
     "start_time": "2021-12-30T07:27:55.860710",
     "status": "completed"
    },
    "tags": []
   },
   "outputs": [],
   "source": [
    "# Lines below will give you a hint or solution code\n",
    "#q_4.hint()\n",
    "# q_4.solution()"
   ]
  },
  {
   "cell_type": "markdown",
   "id": "043ce62d",
   "metadata": {
    "papermill": {
     "duration": 0.014503,
     "end_time": "2021-12-30T07:27:55.911983",
     "exception": false,
     "start_time": "2021-12-30T07:27:55.897480",
     "status": "completed"
    },
    "tags": []
   },
   "source": [
    "# 5) Use a Grouped Transform\n",
    "\n",
    "The value of a home often depends on how it compares to typical homes in its neighborhood. Create a feature `MedNhbdArea` that describes the *median* of `GrLivArea` grouped on `Neighborhood`."
   ]
  },
  {
   "cell_type": "code",
   "execution_count": 11,
   "id": "f4befbbc",
   "metadata": {
    "execution": {
     "iopub.execute_input": "2021-12-30T07:27:55.945550Z",
     "iopub.status.busy": "2021-12-30T07:27:55.944640Z",
     "iopub.status.idle": "2021-12-30T07:27:55.960959Z",
     "shell.execute_reply": "2021-12-30T07:27:55.961377Z",
     "shell.execute_reply.started": "2021-12-30T07:26:27.965348Z"
    },
    "lines_to_next_cell": 0,
    "papermill": {
     "duration": 0.034703,
     "end_time": "2021-12-30T07:27:55.961560",
     "exception": false,
     "start_time": "2021-12-30T07:27:55.926857",
     "status": "completed"
    },
    "tags": []
   },
   "outputs": [
    {
     "data": {
      "application/javascript": [
       "parent.postMessage({\"jupyterEvent\": \"custom.exercise_interaction\", \"data\": {\"outcomeType\": 1, \"valueTowardsCompletion\": 0.2, \"interactionType\": 1, \"questionType\": 2, \"questionId\": \"5_Q5\", \"learnToolsVersion\": \"0.3.4\", \"failureMessage\": \"\", \"exceptionClass\": \"\", \"trace\": \"\"}}, \"*\")"
      ],
      "text/plain": [
       "<IPython.core.display.Javascript object>"
      ]
     },
     "metadata": {},
     "output_type": "display_data"
    },
    {
     "data": {
      "text/markdown": [
       "<span style=\"color:#33cc33\">Correct</span>"
      ],
      "text/plain": [
       "Correct"
      ]
     },
     "metadata": {},
     "output_type": "display_data"
    }
   ],
   "source": [
    "X_5 = pd.DataFrame()\n",
    "\n",
    "# YOUR CODE HERE\n",
    "X_5[\"MedNhbdArea\"] = (df.groupby(\"Neighborhood\")[\"GrLivArea\"].transform(\"median\"))\n",
    "\n",
    "# Check your answer\n",
    "q_5.check()"
   ]
  },
  {
   "cell_type": "code",
   "execution_count": 12,
   "id": "e466114d",
   "metadata": {
    "execution": {
     "iopub.execute_input": "2021-12-30T07:27:55.997433Z",
     "iopub.status.busy": "2021-12-30T07:27:55.996599Z",
     "iopub.status.idle": "2021-12-30T07:27:55.999450Z",
     "shell.execute_reply": "2021-12-30T07:27:55.999901Z"
    },
    "lines_to_next_cell": 0,
    "papermill": {
     "duration": 0.021801,
     "end_time": "2021-12-30T07:27:56.000070",
     "exception": false,
     "start_time": "2021-12-30T07:27:55.978269",
     "status": "completed"
    },
    "tags": []
   },
   "outputs": [],
   "source": [
    "# Lines below will give you a hint or solution code\n",
    "#q_5.hint()\n",
    "#q_5.solution()"
   ]
  },
  {
   "cell_type": "markdown",
   "id": "10a28245",
   "metadata": {
    "papermill": {
     "duration": 0.015463,
     "end_time": "2021-12-30T07:27:56.031283",
     "exception": false,
     "start_time": "2021-12-30T07:27:56.015820",
     "status": "completed"
    },
    "tags": []
   },
   "source": [
    "Now you've made your first new feature set! If you like, you can run the cell below to score the model with all of your new features added:"
   ]
  },
  {
   "cell_type": "markdown",
   "id": "fe42b148",
   "metadata": {
    "papermill": {
     "duration": 0.015348,
     "end_time": "2021-12-30T07:27:56.062259",
     "exception": false,
     "start_time": "2021-12-30T07:27:56.046911",
     "status": "completed"
    },
    "tags": []
   },
   "source": [
    "# Keep Going #\n",
    "\n",
    "[**Untangle spatial relationships**](https://www.kaggle.com/ryanholbrook/clustering-with-k-means) by adding cluster labels to your dataset."
   ]
  }
 ],
 "metadata": {
  "kernelspec": {
   "display_name": "Python 3",
   "language": "python",
   "name": "python3"
  },
  "language_info": {
   "codemirror_mode": {
    "name": "ipython",
    "version": 3
   },
   "file_extension": ".py",
   "mimetype": "text/x-python",
   "name": "python",
   "nbconvert_exporter": "python",
   "pygments_lexer": "ipython3",
   "version": "3.7.12"
  },
  "papermill": {
   "default_parameters": {},
   "duration": 11.433146,
   "end_time": "2021-12-30T07:27:56.687954",
   "environment_variables": {},
   "exception": null,
   "input_path": "__notebook__.ipynb",
   "output_path": "__notebook__.ipynb",
   "parameters": {},
   "start_time": "2021-12-30T07:27:45.254808",
   "version": "2.3.3"
  }
 },
 "nbformat": 4,
 "nbformat_minor": 5
}
